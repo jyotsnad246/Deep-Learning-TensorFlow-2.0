{
 "cells": [
  {
   "cell_type": "markdown",
   "metadata": {},
   "source": [
    "# Tensorboard\n",
    "\n",
    "\n",
    "\n",
    "Let's explore the built in data visualization capabilities that come with Tensorboard.\n",
    "\n",
    "Full official tutorial available here: https://www.tensorflow.org/tensorboard/get_started\n",
    "\n",
    "## Data"
   ]
  },
  {
   "cell_type": "code",
   "execution_count": 1,
   "metadata": {},
   "outputs": [],
   "source": [
    "import pandas as pd\n",
    "import numpy as np"
   ]
  },
  {
   "cell_type": "code",
   "execution_count": 2,
   "metadata": {},
   "outputs": [],
   "source": [
    "df = pd.read_csv('../DATA/cancer_classification.csv')"
   ]
  },
  {
   "cell_type": "markdown",
   "metadata": {},
   "source": [
    "### Train Test Split"
   ]
  },
  {
   "cell_type": "code",
   "execution_count": 3,
   "metadata": {},
   "outputs": [],
   "source": [
    "X = df.drop('benign_0__mal_1',axis=1).values\n",
    "y = df['benign_0__mal_1'].values"
   ]
  },
  {
   "cell_type": "code",
   "execution_count": 4,
   "metadata": {},
   "outputs": [],
   "source": [
    "from sklearn.model_selection import train_test_split"
   ]
  },
  {
   "cell_type": "code",
   "execution_count": 5,
   "metadata": {},
   "outputs": [],
   "source": [
    "X_train, X_test, y_train, y_test = train_test_split(X,y,test_size=0.25,random_state=101)"
   ]
  },
  {
   "cell_type": "markdown",
   "metadata": {},
   "source": [
    "\n",
    "### Scaling Data"
   ]
  },
  {
   "cell_type": "code",
   "execution_count": 6,
   "metadata": {},
   "outputs": [],
   "source": [
    "from sklearn.preprocessing import MinMaxScaler"
   ]
  },
  {
   "cell_type": "code",
   "execution_count": 7,
   "metadata": {},
   "outputs": [],
   "source": [
    "scaler = MinMaxScaler()"
   ]
  },
  {
   "cell_type": "code",
   "execution_count": 8,
   "metadata": {},
   "outputs": [
    {
     "data": {
      "text/html": [
       "<style>#sk-container-id-1 {color: black;background-color: white;}#sk-container-id-1 pre{padding: 0;}#sk-container-id-1 div.sk-toggleable {background-color: white;}#sk-container-id-1 label.sk-toggleable__label {cursor: pointer;display: block;width: 100%;margin-bottom: 0;padding: 0.3em;box-sizing: border-box;text-align: center;}#sk-container-id-1 label.sk-toggleable__label-arrow:before {content: \"▸\";float: left;margin-right: 0.25em;color: #696969;}#sk-container-id-1 label.sk-toggleable__label-arrow:hover:before {color: black;}#sk-container-id-1 div.sk-estimator:hover label.sk-toggleable__label-arrow:before {color: black;}#sk-container-id-1 div.sk-toggleable__content {max-height: 0;max-width: 0;overflow: hidden;text-align: left;background-color: #f0f8ff;}#sk-container-id-1 div.sk-toggleable__content pre {margin: 0.2em;color: black;border-radius: 0.25em;background-color: #f0f8ff;}#sk-container-id-1 input.sk-toggleable__control:checked~div.sk-toggleable__content {max-height: 200px;max-width: 100%;overflow: auto;}#sk-container-id-1 input.sk-toggleable__control:checked~label.sk-toggleable__label-arrow:before {content: \"▾\";}#sk-container-id-1 div.sk-estimator input.sk-toggleable__control:checked~label.sk-toggleable__label {background-color: #d4ebff;}#sk-container-id-1 div.sk-label input.sk-toggleable__control:checked~label.sk-toggleable__label {background-color: #d4ebff;}#sk-container-id-1 input.sk-hidden--visually {border: 0;clip: rect(1px 1px 1px 1px);clip: rect(1px, 1px, 1px, 1px);height: 1px;margin: -1px;overflow: hidden;padding: 0;position: absolute;width: 1px;}#sk-container-id-1 div.sk-estimator {font-family: monospace;background-color: #f0f8ff;border: 1px dotted black;border-radius: 0.25em;box-sizing: border-box;margin-bottom: 0.5em;}#sk-container-id-1 div.sk-estimator:hover {background-color: #d4ebff;}#sk-container-id-1 div.sk-parallel-item::after {content: \"\";width: 100%;border-bottom: 1px solid gray;flex-grow: 1;}#sk-container-id-1 div.sk-label:hover label.sk-toggleable__label {background-color: #d4ebff;}#sk-container-id-1 div.sk-serial::before {content: \"\";position: absolute;border-left: 1px solid gray;box-sizing: border-box;top: 0;bottom: 0;left: 50%;z-index: 0;}#sk-container-id-1 div.sk-serial {display: flex;flex-direction: column;align-items: center;background-color: white;padding-right: 0.2em;padding-left: 0.2em;position: relative;}#sk-container-id-1 div.sk-item {position: relative;z-index: 1;}#sk-container-id-1 div.sk-parallel {display: flex;align-items: stretch;justify-content: center;background-color: white;position: relative;}#sk-container-id-1 div.sk-item::before, #sk-container-id-1 div.sk-parallel-item::before {content: \"\";position: absolute;border-left: 1px solid gray;box-sizing: border-box;top: 0;bottom: 0;left: 50%;z-index: -1;}#sk-container-id-1 div.sk-parallel-item {display: flex;flex-direction: column;z-index: 1;position: relative;background-color: white;}#sk-container-id-1 div.sk-parallel-item:first-child::after {align-self: flex-end;width: 50%;}#sk-container-id-1 div.sk-parallel-item:last-child::after {align-self: flex-start;width: 50%;}#sk-container-id-1 div.sk-parallel-item:only-child::after {width: 0;}#sk-container-id-1 div.sk-dashed-wrapped {border: 1px dashed gray;margin: 0 0.4em 0.5em 0.4em;box-sizing: border-box;padding-bottom: 0.4em;background-color: white;}#sk-container-id-1 div.sk-label label {font-family: monospace;font-weight: bold;display: inline-block;line-height: 1.2em;}#sk-container-id-1 div.sk-label-container {text-align: center;}#sk-container-id-1 div.sk-container {/* jupyter's `normalize.less` sets `[hidden] { display: none; }` but bootstrap.min.css set `[hidden] { display: none !important; }` so we also need the `!important` here to be able to override the default hidden behavior on the sphinx rendered scikit-learn.org. See: https://github.com/scikit-learn/scikit-learn/issues/21755 */display: inline-block !important;position: relative;}#sk-container-id-1 div.sk-text-repr-fallback {display: none;}</style><div id=\"sk-container-id-1\" class=\"sk-top-container\"><div class=\"sk-text-repr-fallback\"><pre>MinMaxScaler()</pre><b>In a Jupyter environment, please rerun this cell to show the HTML representation or trust the notebook. <br />On GitHub, the HTML representation is unable to render, please try loading this page with nbviewer.org.</b></div><div class=\"sk-container\" hidden><div class=\"sk-item\"><div class=\"sk-estimator sk-toggleable\"><input class=\"sk-toggleable__control sk-hidden--visually\" id=\"sk-estimator-id-1\" type=\"checkbox\" checked><label for=\"sk-estimator-id-1\" class=\"sk-toggleable__label sk-toggleable__label-arrow\">MinMaxScaler</label><div class=\"sk-toggleable__content\"><pre>MinMaxScaler()</pre></div></div></div></div></div>"
      ],
      "text/plain": [
       "MinMaxScaler()"
      ]
     },
     "execution_count": 8,
     "metadata": {},
     "output_type": "execute_result"
    }
   ],
   "source": [
    "scaler.fit(X_train)"
   ]
  },
  {
   "cell_type": "code",
   "execution_count": 9,
   "metadata": {},
   "outputs": [],
   "source": [
    "X_train = scaler.transform(X_train)\n",
    "X_test = scaler.transform(X_test)"
   ]
  },
  {
   "cell_type": "markdown",
   "metadata": {},
   "source": [
    "## Creating the Model"
   ]
  },
  {
   "cell_type": "code",
   "execution_count": 10,
   "metadata": {},
   "outputs": [],
   "source": [
    "import tensorflow as tf\n",
    "from tensorflow.keras.models import Sequential\n",
    "from tensorflow.keras.layers import Dense, Activation,Dropout"
   ]
  },
  {
   "cell_type": "code",
   "execution_count": 11,
   "metadata": {},
   "outputs": [],
   "source": [
    "from tensorflow.keras.callbacks import EarlyStopping,TensorBoard"
   ]
  },
  {
   "cell_type": "code",
   "execution_count": 12,
   "metadata": {},
   "outputs": [],
   "source": [
    "early_stop = EarlyStopping(monitor='val_loss', mode='min', verbose=1, patience=25)"
   ]
  },
  {
   "cell_type": "code",
   "execution_count": 13,
   "metadata": {},
   "outputs": [
    {
     "data": {
      "text/plain": [
       "\"C:\\\\Users\\\\ADMIN\\\\Desktop\\\\DL\\\\tensorflow-2-and-keras-deep-learning\\\\ANN's\""
      ]
     },
     "execution_count": 13,
     "metadata": {},
     "output_type": "execute_result"
    }
   ],
   "source": [
    "pwd"
   ]
  },
  {
   "cell_type": "markdown",
   "metadata": {},
   "source": [
    "## Creating the Tensorboard Callback\n",
    "\n",
    "TensorBoard is a visualization tool provided with TensorFlow.\n",
    "\n",
    "This callback logs events for TensorBoard, including:\n",
    "* Metrics summary plots\n",
    "* Training graph visualization\n",
    "* Activation histograms\n",
    "* Sampled profiling\n",
    "\n",
    "If you have installed TensorFlow with pip, you should be able\n",
    "to launch TensorBoard from the command line:\n",
    "\n",
    "```sh\n",
    "tensorboard --logdir=path_to_your_logs\n",
    "```\n",
    "\n",
    "You can find more information about TensorBoard\n",
    "[here](https://www.tensorflow.org/tensorboard/).\n",
    "\n",
    "    Arguments:\n",
    "        log_dir: the path of the directory where to save the log files to be\n",
    "          parsed by TensorBoard.\n",
    "        histogram_freq: frequency (in epochs) at which to compute activation and\n",
    "          weight histograms for the layers of the model. If set to 0, histograms\n",
    "          won't be computed. Validation data (or split) must be specified for\n",
    "          histogram visualizations.\n",
    "        write_graph: whether to visualize the graph in TensorBoard. The log file\n",
    "          can become quite large when write_graph is set to True.\n",
    "        write_images: whether to write model weights to visualize as image in\n",
    "          TensorBoard.\n",
    "        update_freq: `'batch'` or `'epoch'` or integer. When using `'batch'`,\n",
    "          writes the losses and metrics to TensorBoard after each batch. The same\n",
    "          applies for `'epoch'`. If using an integer, let's say `1000`, the\n",
    "          callback will write the metrics and losses to TensorBoard every 1000\n",
    "          samples. Note that writing too frequently to TensorBoard can slow down\n",
    "          your training.\n",
    "        profile_batch: Profile the batch to sample compute characteristics. By\n",
    "          default, it will profile the second batch. Set profile_batch=0 to\n",
    "          disable profiling. Must run in TensorFlow eager mode.\n",
    "        embeddings_freq: frequency (in epochs) at which embedding layers will\n",
    "          be visualized. If set to 0, embeddings won't be visualized.\n",
    "       "
   ]
  },
  {
   "cell_type": "code",
   "execution_count": 14,
   "metadata": {},
   "outputs": [],
   "source": [
    "from datetime import datetime"
   ]
  },
  {
   "cell_type": "code",
   "execution_count": 15,
   "metadata": {},
   "outputs": [
    {
     "data": {
      "text/plain": [
       "'2022-09-06--1320'"
      ]
     },
     "execution_count": 15,
     "metadata": {},
     "output_type": "execute_result"
    }
   ],
   "source": [
    "datetime.now().strftime(\"%Y-%m-%d--%H%M\")"
   ]
  },
  {
   "cell_type": "code",
   "execution_count": 16,
   "metadata": {},
   "outputs": [],
   "source": [
    "# WINDOWS: Use \"logs\\\\fit\"\n",
    "# MACOS/LINUX: Use \"logs\\fit\"\n",
    "\n",
    "log_directory = 'logs\\\\fit'\n",
    "\n",
    "# OPTIONAL: ADD A TIMESTAMP FOR UNIQUE FOLDER\n",
    "# timestamp = datetime.now().strftime(\"%Y-%m-%d--%H%M\")\n",
    "# log_directory = log_directory + '\\\\' + timestamp\n",
    "\n",
    "\n",
    "board = TensorBoard(log_dir=log_directory,histogram_freq=1,\n",
    "    write_graph=True,\n",
    "    write_images=True,\n",
    "    update_freq='epoch',\n",
    "    profile_batch=2,\n",
    "    embeddings_freq=1)"
   ]
  },
  {
   "cell_type": "markdown",
   "metadata": {},
   "source": [
    "Now create the model layers:"
   ]
  },
  {
   "cell_type": "code",
   "execution_count": 17,
   "metadata": {},
   "outputs": [],
   "source": [
    "model = Sequential()\n",
    "model.add(Dense(units=30,activation='relu'))\n",
    "model.add(Dropout(0.5))\n",
    "model.add(Dense(units=15,activation='relu'))\n",
    "model.add(Dropout(0.5))\n",
    "model.add(Dense(units=1,activation='sigmoid'))\n",
    "model.compile(loss='binary_crossentropy', optimizer='adam')"
   ]
  },
  {
   "cell_type": "markdown",
   "metadata": {},
   "source": [
    "## Train the Model"
   ]
  },
  {
   "cell_type": "code",
   "execution_count": 18,
   "metadata": {},
   "outputs": [
    {
     "name": "stdout",
     "output_type": "stream",
     "text": [
      "Epoch 1/600\n",
      "14/14 [==============================] - 1s 36ms/step - loss: 0.7311 - val_loss: 0.6904\n",
      "Epoch 2/600\n",
      "14/14 [==============================] - 0s 19ms/step - loss: 0.7041 - val_loss: 0.6816\n",
      "Epoch 3/600\n",
      "14/14 [==============================] - 0s 20ms/step - loss: 0.6996 - val_loss: 0.6726\n",
      "Epoch 4/600\n",
      "14/14 [==============================] - 0s 20ms/step - loss: 0.6813 - val_loss: 0.6627\n",
      "Epoch 5/600\n",
      "14/14 [==============================] - 0s 19ms/step - loss: 0.6796 - val_loss: 0.6533\n",
      "Epoch 6/600\n",
      "14/14 [==============================] - 0s 19ms/step - loss: 0.6636 - val_loss: 0.6429\n",
      "Epoch 7/600\n",
      "14/14 [==============================] - 0s 20ms/step - loss: 0.6387 - val_loss: 0.6286\n",
      "Epoch 8/600\n",
      "14/14 [==============================] - 0s 20ms/step - loss: 0.6413 - val_loss: 0.6016\n",
      "Epoch 9/600\n",
      "14/14 [==============================] - 0s 20ms/step - loss: 0.6052 - val_loss: 0.5673\n",
      "Epoch 10/600\n",
      "14/14 [==============================] - 0s 20ms/step - loss: 0.5830 - val_loss: 0.5401\n",
      "Epoch 11/600\n",
      "14/14 [==============================] - 0s 20ms/step - loss: 0.5766 - val_loss: 0.5164\n",
      "Epoch 12/600\n",
      "14/14 [==============================] - 0s 21ms/step - loss: 0.5597 - val_loss: 0.4995\n",
      "Epoch 13/600\n",
      "14/14 [==============================] - 0s 22ms/step - loss: 0.5240 - val_loss: 0.4743\n",
      "Epoch 14/600\n",
      "14/14 [==============================] - 0s 21ms/step - loss: 0.4948 - val_loss: 0.4518\n",
      "Epoch 15/600\n",
      "14/14 [==============================] - 0s 23ms/step - loss: 0.4919 - val_loss: 0.4259\n",
      "Epoch 16/600\n",
      "14/14 [==============================] - 0s 22ms/step - loss: 0.4678 - val_loss: 0.4039\n",
      "Epoch 17/600\n",
      "14/14 [==============================] - 0s 21ms/step - loss: 0.4581 - val_loss: 0.3806\n",
      "Epoch 18/600\n",
      "14/14 [==============================] - 0s 21ms/step - loss: 0.4286 - val_loss: 0.3530\n",
      "Epoch 19/600\n",
      "14/14 [==============================] - 0s 21ms/step - loss: 0.4212 - val_loss: 0.3356\n",
      "Epoch 20/600\n",
      "14/14 [==============================] - 0s 21ms/step - loss: 0.4168 - val_loss: 0.3133\n",
      "Epoch 21/600\n",
      "14/14 [==============================] - 0s 21ms/step - loss: 0.4038 - val_loss: 0.2952\n",
      "Epoch 22/600\n",
      "14/14 [==============================] - 0s 22ms/step - loss: 0.3960 - val_loss: 0.2778\n",
      "Epoch 23/600\n",
      "14/14 [==============================] - 0s 23ms/step - loss: 0.3584 - val_loss: 0.2572\n",
      "Epoch 24/600\n",
      "14/14 [==============================] - 0s 22ms/step - loss: 0.3422 - val_loss: 0.2429\n",
      "Epoch 25/600\n",
      "14/14 [==============================] - 0s 20ms/step - loss: 0.3321 - val_loss: 0.2384\n",
      "Epoch 26/600\n",
      "14/14 [==============================] - 0s 19ms/step - loss: 0.3193 - val_loss: 0.2215\n",
      "Epoch 27/600\n",
      "14/14 [==============================] - 0s 20ms/step - loss: 0.2990 - val_loss: 0.2091\n",
      "Epoch 28/600\n",
      "14/14 [==============================] - 0s 27ms/step - loss: 0.3063 - val_loss: 0.2087\n",
      "Epoch 29/600\n",
      "14/14 [==============================] - 0s 19ms/step - loss: 0.3316 - val_loss: 0.2016\n",
      "Epoch 30/600\n",
      "14/14 [==============================] - 0s 20ms/step - loss: 0.3036 - val_loss: 0.1942\n",
      "Epoch 31/600\n",
      "14/14 [==============================] - 0s 21ms/step - loss: 0.3068 - val_loss: 0.1877\n",
      "Epoch 32/600\n",
      "14/14 [==============================] - 0s 20ms/step - loss: 0.2864 - val_loss: 0.1828\n",
      "Epoch 33/600\n",
      "14/14 [==============================] - 0s 19ms/step - loss: 0.2820 - val_loss: 0.1850\n",
      "Epoch 34/600\n",
      "14/14 [==============================] - 0s 19ms/step - loss: 0.2499 - val_loss: 0.1739\n",
      "Epoch 35/600\n",
      "14/14 [==============================] - 0s 20ms/step - loss: 0.2538 - val_loss: 0.1638\n",
      "Epoch 36/600\n",
      "14/14 [==============================] - 0s 19ms/step - loss: 0.2528 - val_loss: 0.1614\n",
      "Epoch 37/600\n",
      "14/14 [==============================] - 0s 19ms/step - loss: 0.2237 - val_loss: 0.1511\n",
      "Epoch 38/600\n",
      "14/14 [==============================] - 0s 20ms/step - loss: 0.2498 - val_loss: 0.1502\n",
      "Epoch 39/600\n",
      "14/14 [==============================] - 0s 19ms/step - loss: 0.2466 - val_loss: 0.1525\n",
      "Epoch 40/600\n",
      "14/14 [==============================] - 0s 23ms/step - loss: 0.2384 - val_loss: 0.1489\n",
      "Epoch 41/600\n",
      "14/14 [==============================] - 0s 20ms/step - loss: 0.2346 - val_loss: 0.1526\n",
      "Epoch 42/600\n",
      "14/14 [==============================] - 0s 21ms/step - loss: 0.2264 - val_loss: 0.1491\n",
      "Epoch 43/600\n",
      "14/14 [==============================] - 0s 20ms/step - loss: 0.2201 - val_loss: 0.1444\n",
      "Epoch 44/600\n",
      "14/14 [==============================] - 0s 24ms/step - loss: 0.2109 - val_loss: 0.1376\n",
      "Epoch 45/600\n",
      "14/14 [==============================] - 0s 22ms/step - loss: 0.2085 - val_loss: 0.1411\n",
      "Epoch 46/600\n",
      "14/14 [==============================] - 0s 21ms/step - loss: 0.1957 - val_loss: 0.1366\n",
      "Epoch 47/600\n",
      "14/14 [==============================] - 0s 22ms/step - loss: 0.1963 - val_loss: 0.1373\n",
      "Epoch 48/600\n",
      "14/14 [==============================] - 0s 21ms/step - loss: 0.1937 - val_loss: 0.1290\n",
      "Epoch 49/600\n",
      "14/14 [==============================] - 0s 21ms/step - loss: 0.1902 - val_loss: 0.1230\n",
      "Epoch 50/600\n",
      "14/14 [==============================] - 0s 22ms/step - loss: 0.2020 - val_loss: 0.1235\n",
      "Epoch 51/600\n",
      "14/14 [==============================] - 0s 20ms/step - loss: 0.1725 - val_loss: 0.1299\n",
      "Epoch 52/600\n",
      "14/14 [==============================] - 0s 20ms/step - loss: 0.1890 - val_loss: 0.1237\n",
      "Epoch 53/600\n",
      "14/14 [==============================] - 0s 21ms/step - loss: 0.1795 - val_loss: 0.1222\n",
      "Epoch 54/600\n",
      "14/14 [==============================] - 0s 20ms/step - loss: 0.1781 - val_loss: 0.1214\n",
      "Epoch 55/600\n",
      "14/14 [==============================] - 0s 20ms/step - loss: 0.1818 - val_loss: 0.1154\n",
      "Epoch 56/600\n",
      "14/14 [==============================] - 0s 20ms/step - loss: 0.1774 - val_loss: 0.1145\n",
      "Epoch 57/600\n",
      "14/14 [==============================] - 0s 19ms/step - loss: 0.1619 - val_loss: 0.1152\n",
      "Epoch 58/600\n",
      "14/14 [==============================] - 0s 19ms/step - loss: 0.1616 - val_loss: 0.1174\n",
      "Epoch 59/600\n",
      "14/14 [==============================] - 0s 21ms/step - loss: 0.2003 - val_loss: 0.1161\n",
      "Epoch 60/600\n",
      "14/14 [==============================] - 0s 19ms/step - loss: 0.1540 - val_loss: 0.1133\n",
      "Epoch 61/600\n",
      "14/14 [==============================] - 0s 20ms/step - loss: 0.1659 - val_loss: 0.1146\n",
      "Epoch 62/600\n",
      "14/14 [==============================] - 0s 21ms/step - loss: 0.1512 - val_loss: 0.1152\n",
      "Epoch 63/600\n",
      "14/14 [==============================] - 0s 22ms/step - loss: 0.1681 - val_loss: 0.1096\n",
      "Epoch 64/600\n",
      "14/14 [==============================] - 0s 21ms/step - loss: 0.1716 - val_loss: 0.1162\n",
      "Epoch 65/600\n",
      "14/14 [==============================] - 0s 20ms/step - loss: 0.1453 - val_loss: 0.1121\n",
      "Epoch 66/600\n",
      "14/14 [==============================] - 0s 20ms/step - loss: 0.1605 - val_loss: 0.1106\n",
      "Epoch 67/600\n",
      "14/14 [==============================] - 0s 20ms/step - loss: 0.1386 - val_loss: 0.1027\n",
      "Epoch 68/600\n",
      "14/14 [==============================] - 0s 20ms/step - loss: 0.1533 - val_loss: 0.1068\n",
      "Epoch 69/600\n",
      "14/14 [==============================] - 0s 19ms/step - loss: 0.1362 - val_loss: 0.1052\n",
      "Epoch 70/600\n",
      "14/14 [==============================] - 0s 21ms/step - loss: 0.1206 - val_loss: 0.1076\n",
      "Epoch 71/600\n",
      "14/14 [==============================] - 0s 21ms/step - loss: 0.1577 - val_loss: 0.0989\n",
      "Epoch 72/600\n",
      "14/14 [==============================] - 0s 22ms/step - loss: 0.1353 - val_loss: 0.1118\n",
      "Epoch 73/600\n",
      "14/14 [==============================] - 0s 20ms/step - loss: 0.1324 - val_loss: 0.1100\n",
      "Epoch 74/600\n",
      "14/14 [==============================] - 0s 22ms/step - loss: 0.1597 - val_loss: 0.0988\n",
      "Epoch 75/600\n",
      "14/14 [==============================] - 0s 21ms/step - loss: 0.1328 - val_loss: 0.1099\n",
      "Epoch 76/600\n",
      "14/14 [==============================] - 0s 21ms/step - loss: 0.1730 - val_loss: 0.1118\n",
      "Epoch 77/600\n",
      "14/14 [==============================] - 0s 23ms/step - loss: 0.1527 - val_loss: 0.1006\n",
      "Epoch 78/600\n",
      "14/14 [==============================] - 0s 23ms/step - loss: 0.1293 - val_loss: 0.1044\n",
      "Epoch 79/600\n",
      "14/14 [==============================] - 0s 21ms/step - loss: 0.1332 - val_loss: 0.1091\n",
      "Epoch 80/600\n",
      "14/14 [==============================] - 0s 22ms/step - loss: 0.1180 - val_loss: 0.1160\n",
      "Epoch 81/600\n",
      "14/14 [==============================] - 0s 20ms/step - loss: 0.1431 - val_loss: 0.0943\n",
      "Epoch 82/600\n"
     ]
    },
    {
     "name": "stdout",
     "output_type": "stream",
     "text": [
      "14/14 [==============================] - 0s 20ms/step - loss: 0.1251 - val_loss: 0.1217\n",
      "Epoch 83/600\n",
      "14/14 [==============================] - 0s 19ms/step - loss: 0.1212 - val_loss: 0.1010\n",
      "Epoch 84/600\n",
      "14/14 [==============================] - 0s 18ms/step - loss: 0.1116 - val_loss: 0.0946\n",
      "Epoch 85/600\n",
      "14/14 [==============================] - 0s 19ms/step - loss: 0.1326 - val_loss: 0.0974\n",
      "Epoch 86/600\n",
      "14/14 [==============================] - 0s 18ms/step - loss: 0.1392 - val_loss: 0.1083\n",
      "Epoch 87/600\n",
      "14/14 [==============================] - 0s 18ms/step - loss: 0.1362 - val_loss: 0.1129\n",
      "Epoch 88/600\n",
      "14/14 [==============================] - 0s 18ms/step - loss: 0.1181 - val_loss: 0.0988\n",
      "Epoch 89/600\n",
      "14/14 [==============================] - 0s 18ms/step - loss: 0.1262 - val_loss: 0.0943\n",
      "Epoch 90/600\n",
      "14/14 [==============================] - 0s 19ms/step - loss: 0.1407 - val_loss: 0.0928\n",
      "Epoch 91/600\n",
      "14/14 [==============================] - 0s 18ms/step - loss: 0.0993 - val_loss: 0.1033\n",
      "Epoch 92/600\n",
      "14/14 [==============================] - 0s 19ms/step - loss: 0.1344 - val_loss: 0.1073\n",
      "Epoch 93/600\n",
      "14/14 [==============================] - 0s 19ms/step - loss: 0.1224 - val_loss: 0.0982\n",
      "Epoch 94/600\n",
      "14/14 [==============================] - 0s 20ms/step - loss: 0.1322 - val_loss: 0.1002\n",
      "Epoch 95/600\n",
      "14/14 [==============================] - 0s 19ms/step - loss: 0.1359 - val_loss: 0.0994\n",
      "Epoch 96/600\n",
      "14/14 [==============================] - 0s 19ms/step - loss: 0.1167 - val_loss: 0.0913\n",
      "Epoch 97/600\n",
      "14/14 [==============================] - 0s 20ms/step - loss: 0.1221 - val_loss: 0.0982\n",
      "Epoch 98/600\n",
      "14/14 [==============================] - 0s 19ms/step - loss: 0.1117 - val_loss: 0.0913\n",
      "Epoch 99/600\n",
      "14/14 [==============================] - 0s 19ms/step - loss: 0.1396 - val_loss: 0.0999\n",
      "Epoch 100/600\n",
      "14/14 [==============================] - 0s 18ms/step - loss: 0.1128 - val_loss: 0.0920\n",
      "Epoch 101/600\n",
      "14/14 [==============================] - 0s 19ms/step - loss: 0.1092 - val_loss: 0.0994\n",
      "Epoch 102/600\n",
      "14/14 [==============================] - 0s 20ms/step - loss: 0.1131 - val_loss: 0.0897\n",
      "Epoch 103/600\n",
      "14/14 [==============================] - 0s 26ms/step - loss: 0.1105 - val_loss: 0.0937\n",
      "Epoch 104/600\n",
      "14/14 [==============================] - 0s 22ms/step - loss: 0.1042 - val_loss: 0.1036\n",
      "Epoch 105/600\n",
      "14/14 [==============================] - 0s 20ms/step - loss: 0.1100 - val_loss: 0.0901\n",
      "Epoch 106/600\n",
      "14/14 [==============================] - 0s 21ms/step - loss: 0.0968 - val_loss: 0.0877\n",
      "Epoch 107/600\n",
      "14/14 [==============================] - 0s 19ms/step - loss: 0.1004 - val_loss: 0.0994\n",
      "Epoch 108/600\n",
      "14/14 [==============================] - 0s 19ms/step - loss: 0.1195 - val_loss: 0.1032\n",
      "Epoch 109/600\n",
      "14/14 [==============================] - 0s 19ms/step - loss: 0.0930 - val_loss: 0.0890\n",
      "Epoch 110/600\n",
      "14/14 [==============================] - 0s 20ms/step - loss: 0.1221 - val_loss: 0.0873\n",
      "Epoch 111/600\n",
      "14/14 [==============================] - 0s 19ms/step - loss: 0.0918 - val_loss: 0.0958\n",
      "Epoch 112/600\n",
      "14/14 [==============================] - 0s 19ms/step - loss: 0.1020 - val_loss: 0.1003\n",
      "Epoch 113/600\n",
      "14/14 [==============================] - 0s 19ms/step - loss: 0.1071 - val_loss: 0.0941\n",
      "Epoch 114/600\n",
      "14/14 [==============================] - 0s 19ms/step - loss: 0.1041 - val_loss: 0.0920\n",
      "Epoch 115/600\n",
      "14/14 [==============================] - 0s 19ms/step - loss: 0.1176 - val_loss: 0.1017\n",
      "Epoch 116/600\n",
      "14/14 [==============================] - 0s 18ms/step - loss: 0.0956 - val_loss: 0.0916\n",
      "Epoch 117/600\n",
      "14/14 [==============================] - 0s 20ms/step - loss: 0.0963 - val_loss: 0.0859\n",
      "Epoch 118/600\n",
      "14/14 [==============================] - 0s 19ms/step - loss: 0.1065 - val_loss: 0.0879\n",
      "Epoch 119/600\n",
      "14/14 [==============================] - 0s 21ms/step - loss: 0.0941 - val_loss: 0.0932\n",
      "Epoch 120/600\n",
      "14/14 [==============================] - 0s 23ms/step - loss: 0.0943 - val_loss: 0.0881\n",
      "Epoch 121/600\n",
      "14/14 [==============================] - 0s 25ms/step - loss: 0.1127 - val_loss: 0.0922\n",
      "Epoch 122/600\n",
      "14/14 [==============================] - 0s 24ms/step - loss: 0.1179 - val_loss: 0.0914\n",
      "Epoch 123/600\n",
      "14/14 [==============================] - 0s 22ms/step - loss: 0.0888 - val_loss: 0.0999\n",
      "Epoch 124/600\n",
      "14/14 [==============================] - 0s 20ms/step - loss: 0.0996 - val_loss: 0.0947\n",
      "Epoch 125/600\n",
      "14/14 [==============================] - 0s 25ms/step - loss: 0.0883 - val_loss: 0.0834\n",
      "Epoch 126/600\n",
      "14/14 [==============================] - 0s 23ms/step - loss: 0.1015 - val_loss: 0.0858\n",
      "Epoch 127/600\n",
      "14/14 [==============================] - 0s 21ms/step - loss: 0.1266 - val_loss: 0.0971\n",
      "Epoch 128/600\n",
      "14/14 [==============================] - 0s 21ms/step - loss: 0.1154 - val_loss: 0.0823\n",
      "Epoch 129/600\n",
      "14/14 [==============================] - 0s 23ms/step - loss: 0.1067 - val_loss: 0.0845\n",
      "Epoch 130/600\n",
      "14/14 [==============================] - 0s 22ms/step - loss: 0.0921 - val_loss: 0.0866\n",
      "Epoch 131/600\n",
      "14/14 [==============================] - 0s 22ms/step - loss: 0.0903 - val_loss: 0.1036\n",
      "Epoch 132/600\n",
      "14/14 [==============================] - 0s 22ms/step - loss: 0.1012 - val_loss: 0.0895\n",
      "Epoch 133/600\n",
      "14/14 [==============================] - 0s 21ms/step - loss: 0.1006 - val_loss: 0.0820\n",
      "Epoch 134/600\n",
      "14/14 [==============================] - 0s 22ms/step - loss: 0.1092 - val_loss: 0.0862\n",
      "Epoch 135/600\n",
      "14/14 [==============================] - 0s 22ms/step - loss: 0.1037 - val_loss: 0.0896\n",
      "Epoch 136/600\n",
      "14/14 [==============================] - 0s 23ms/step - loss: 0.1013 - val_loss: 0.0885\n",
      "Epoch 137/600\n",
      "14/14 [==============================] - 0s 22ms/step - loss: 0.1159 - val_loss: 0.0914\n",
      "Epoch 138/600\n",
      "14/14 [==============================] - 0s 24ms/step - loss: 0.1122 - val_loss: 0.1062\n",
      "Epoch 139/600\n",
      "14/14 [==============================] - 0s 26ms/step - loss: 0.0852 - val_loss: 0.0876\n",
      "Epoch 140/600\n",
      "14/14 [==============================] - 0s 28ms/step - loss: 0.1003 - val_loss: 0.0978\n",
      "Epoch 141/600\n",
      "14/14 [==============================] - 0s 21ms/step - loss: 0.0851 - val_loss: 0.0933\n",
      "Epoch 142/600\n",
      "14/14 [==============================] - 0s 20ms/step - loss: 0.0827 - val_loss: 0.0895\n",
      "Epoch 143/600\n",
      "14/14 [==============================] - 0s 20ms/step - loss: 0.0819 - val_loss: 0.0851\n",
      "Epoch 144/600\n",
      "14/14 [==============================] - 0s 20ms/step - loss: 0.0916 - val_loss: 0.0913\n",
      "Epoch 145/600\n",
      "14/14 [==============================] - 0s 20ms/step - loss: 0.0807 - val_loss: 0.0927\n",
      "Epoch 146/600\n",
      "14/14 [==============================] - 0s 19ms/step - loss: 0.1272 - val_loss: 0.0847\n",
      "Epoch 147/600\n",
      "14/14 [==============================] - 0s 20ms/step - loss: 0.1016 - val_loss: 0.0982\n",
      "Epoch 148/600\n",
      "14/14 [==============================] - 0s 20ms/step - loss: 0.0800 - val_loss: 0.0978\n",
      "Epoch 149/600\n",
      "14/14 [==============================] - 0s 20ms/step - loss: 0.0698 - val_loss: 0.0904\n",
      "Epoch 150/600\n",
      "14/14 [==============================] - 0s 20ms/step - loss: 0.0962 - val_loss: 0.0911\n",
      "Epoch 151/600\n",
      "14/14 [==============================] - 0s 19ms/step - loss: 0.0876 - val_loss: 0.1057\n",
      "Epoch 152/600\n",
      "14/14 [==============================] - 0s 21ms/step - loss: 0.0971 - val_loss: 0.0962\n",
      "Epoch 153/600\n",
      "14/14 [==============================] - 0s 21ms/step - loss: 0.0894 - val_loss: 0.0863\n",
      "Epoch 154/600\n",
      "14/14 [==============================] - 0s 20ms/step - loss: 0.0904 - val_loss: 0.0881\n",
      "Epoch 155/600\n",
      "14/14 [==============================] - 0s 21ms/step - loss: 0.0847 - val_loss: 0.0944\n",
      "Epoch 156/600\n",
      "14/14 [==============================] - 0s 19ms/step - loss: 0.0925 - val_loss: 0.0950\n",
      "Epoch 157/600\n",
      "14/14 [==============================] - 0s 20ms/step - loss: 0.0767 - val_loss: 0.0890\n",
      "Epoch 158/600\n",
      "14/14 [==============================] - 0s 19ms/step - loss: 0.0833 - val_loss: 0.0953\n",
      "Epoch 158: early stopping\n"
     ]
    },
    {
     "data": {
      "text/plain": [
       "<keras.callbacks.History at 0x1742bdafe20>"
      ]
     },
     "execution_count": 18,
     "metadata": {},
     "output_type": "execute_result"
    }
   ],
   "source": [
    "model.fit(x=X_train, \n",
    "          y=y_train, \n",
    "          epochs=600,\n",
    "          validation_data=(X_test, y_test), verbose=1,\n",
    "          callbacks=[early_stop,board]\n",
    "          )"
   ]
  },
  {
   "cell_type": "markdown",
   "metadata": {},
   "source": [
    "# Running Tensorboard\n"
   ]
  },
  {
   "cell_type": "markdown",
   "metadata": {},
   "source": [
    "## Running through the Command Line\n",
    "\n",
    "**Watch video to see how to run Tensorboard through a command line call.**"
   ]
  },
  {
   "cell_type": "markdown",
   "metadata": {},
   "source": [
    "Tensorboard will run locally in your browser at [http://localhost:6006/](http://localhost:6006/)\n"
   ]
  },
  {
   "cell_type": "code",
   "execution_count": 19,
   "metadata": {},
   "outputs": [
    {
     "name": "stdout",
     "output_type": "stream",
     "text": [
      "logs\\fit\n"
     ]
    }
   ],
   "source": [
    "print(log_directory)"
   ]
  },
  {
   "cell_type": "code",
   "execution_count": 20,
   "metadata": {},
   "outputs": [
    {
     "data": {
      "text/plain": [
       "\"C:\\\\Users\\\\ADMIN\\\\Desktop\\\\DL\\\\tensorflow-2-and-keras-deep-learning\\\\ANN's\""
      ]
     },
     "execution_count": 20,
     "metadata": {},
     "output_type": "execute_result"
    }
   ],
   "source": [
    "pwd"
   ]
  },
  {
   "cell_type": "markdown",
   "metadata": {},
   "source": [
    "### Use cd at your command line to change directory to the file path reported back by pwd or your current .py file location.\n",
    "### Then run this code at your command line or terminal"
   ]
  },
  {
   "cell_type": "code",
   "execution_count": 22,
   "metadata": {},
   "outputs": [],
   "source": [
    "#tensorboard --logdir logs\\fit "
   ]
  },
  {
   "cell_type": "code",
   "execution_count": null,
   "metadata": {},
   "outputs": [],
   "source": []
  }
 ],
 "metadata": {
  "kernelspec": {
   "display_name": "Python 3 (ipykernel)",
   "language": "python",
   "name": "python3"
  },
  "language_info": {
   "codemirror_mode": {
    "name": "ipython",
    "version": 3
   },
   "file_extension": ".py",
   "mimetype": "text/x-python",
   "name": "python",
   "nbconvert_exporter": "python",
   "pygments_lexer": "ipython3",
   "version": "3.9.13"
  }
 },
 "nbformat": 4,
 "nbformat_minor": 2
}
