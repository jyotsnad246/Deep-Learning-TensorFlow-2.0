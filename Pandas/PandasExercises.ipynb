{
  "cells": [
    {
      "cell_type": "markdown",
      "metadata": {
        "id": "eiUQ_3sF0-8c"
      },
      "source": [
        "\n",
        "---\n",
        "\n",
        "# Complete the Tasks Below\n",
        "---"
      ]
    },
    {
      "cell_type": "markdown",
      "metadata": {
        "id": "6I0X0Ze70-8e"
      },
      "source": [
        "**TASK: Import pandas**"
      ]
    },
    {
      "cell_type": "code",
      "execution_count": null,
      "metadata": {
        "id": "VR2DgX3G0-8f"
      },
      "outputs": [],
      "source": [
        "# CODE HERE"
      ]
    },
    {
      "cell_type": "code",
      "execution_count": null,
      "metadata": {
        "id": "Mr8PE2-m0-8h"
      },
      "outputs": [],
      "source": [
        "import pandas as pd"
      ]
    },
    {
      "cell_type": "markdown",
      "metadata": {
        "id": "_l6YE8jJ0-8j"
      },
      "source": [
        "**TASK:  Read in the african_econ_crises.csv file that is located under the 01-Crash-Course-Pandas folder. Pay close attention to where the .csv file is located! Please don't post to the QA forums if you can't figure this one out, instead, run our solutions notebook directly to see how its done.**"
      ]
    },
    {
      "cell_type": "code",
      "execution_count": null,
      "metadata": {
        "id": "bl_41ksr0-8k"
      },
      "outputs": [],
      "source": [
        "# CODE HERE"
      ]
    },
    {
      "cell_type": "code",
      "execution_count": null,
      "metadata": {
        "id": "yTxNlHhc0-8m"
      },
      "outputs": [],
      "source": [
        "df = pd.read_csv('african_econ_crises.csv')"
      ]
    },
    {
      "cell_type": "markdown",
      "metadata": {
        "id": "ZZGlgmMk0-8n"
      },
      "source": [
        "**TASK: Display the first 5 rows of the data set**"
      ]
    },
    {
      "cell_type": "code",
      "execution_count": null,
      "metadata": {
        "id": "5JbrvCMO0-8p"
      },
      "outputs": [],
      "source": [
        "# CODE HERE"
      ]
    },
    {
      "cell_type": "code",
      "execution_count": null,
      "metadata": {
        "id": "U-fqaYRM0-8q",
        "outputId": "3c11bfd5-3236-47c7-aa68-2a8f2ef6c308"
      },
      "outputs": [
        {
          "data": {
            "text/html": [
              "<div>\n",
              "<style scoped>\n",
              "    .dataframe tbody tr th:only-of-type {\n",
              "        vertical-align: middle;\n",
              "    }\n",
              "\n",
              "    .dataframe tbody tr th {\n",
              "        vertical-align: top;\n",
              "    }\n",
              "\n",
              "    .dataframe thead th {\n",
              "        text-align: right;\n",
              "    }\n",
              "</style>\n",
              "<table border=\"1\" class=\"dataframe\">\n",
              "  <thead>\n",
              "    <tr style=\"text-align: right;\">\n",
              "      <th></th>\n",
              "      <th>case</th>\n",
              "      <th>cc3</th>\n",
              "      <th>country</th>\n",
              "      <th>year</th>\n",
              "      <th>systemic_crisis</th>\n",
              "      <th>exch_usd</th>\n",
              "      <th>domestic_debt_in_default</th>\n",
              "      <th>sovereign_external_debt_default</th>\n",
              "      <th>gdp_weighted_default</th>\n",
              "      <th>inflation_annual_cpi</th>\n",
              "      <th>independence</th>\n",
              "      <th>currency_crises</th>\n",
              "      <th>inflation_crises</th>\n",
              "      <th>banking_crisis</th>\n",
              "    </tr>\n",
              "  </thead>\n",
              "  <tbody>\n",
              "    <tr>\n",
              "      <td>0</td>\n",
              "      <td>1</td>\n",
              "      <td>DZA</td>\n",
              "      <td>Algeria</td>\n",
              "      <td>1870</td>\n",
              "      <td>1</td>\n",
              "      <td>0.052264</td>\n",
              "      <td>0</td>\n",
              "      <td>0</td>\n",
              "      <td>0.0</td>\n",
              "      <td>3.441456</td>\n",
              "      <td>0</td>\n",
              "      <td>0</td>\n",
              "      <td>0</td>\n",
              "      <td>crisis</td>\n",
              "    </tr>\n",
              "    <tr>\n",
              "      <td>1</td>\n",
              "      <td>1</td>\n",
              "      <td>DZA</td>\n",
              "      <td>Algeria</td>\n",
              "      <td>1871</td>\n",
              "      <td>0</td>\n",
              "      <td>0.052798</td>\n",
              "      <td>0</td>\n",
              "      <td>0</td>\n",
              "      <td>0.0</td>\n",
              "      <td>14.149140</td>\n",
              "      <td>0</td>\n",
              "      <td>0</td>\n",
              "      <td>0</td>\n",
              "      <td>no_crisis</td>\n",
              "    </tr>\n",
              "    <tr>\n",
              "      <td>2</td>\n",
              "      <td>1</td>\n",
              "      <td>DZA</td>\n",
              "      <td>Algeria</td>\n",
              "      <td>1872</td>\n",
              "      <td>0</td>\n",
              "      <td>0.052274</td>\n",
              "      <td>0</td>\n",
              "      <td>0</td>\n",
              "      <td>0.0</td>\n",
              "      <td>-3.718593</td>\n",
              "      <td>0</td>\n",
              "      <td>0</td>\n",
              "      <td>0</td>\n",
              "      <td>no_crisis</td>\n",
              "    </tr>\n",
              "    <tr>\n",
              "      <td>3</td>\n",
              "      <td>1</td>\n",
              "      <td>DZA</td>\n",
              "      <td>Algeria</td>\n",
              "      <td>1873</td>\n",
              "      <td>0</td>\n",
              "      <td>0.051680</td>\n",
              "      <td>0</td>\n",
              "      <td>0</td>\n",
              "      <td>0.0</td>\n",
              "      <td>11.203897</td>\n",
              "      <td>0</td>\n",
              "      <td>0</td>\n",
              "      <td>0</td>\n",
              "      <td>no_crisis</td>\n",
              "    </tr>\n",
              "    <tr>\n",
              "      <td>4</td>\n",
              "      <td>1</td>\n",
              "      <td>DZA</td>\n",
              "      <td>Algeria</td>\n",
              "      <td>1874</td>\n",
              "      <td>0</td>\n",
              "      <td>0.051308</td>\n",
              "      <td>0</td>\n",
              "      <td>0</td>\n",
              "      <td>0.0</td>\n",
              "      <td>-3.848561</td>\n",
              "      <td>0</td>\n",
              "      <td>0</td>\n",
              "      <td>0</td>\n",
              "      <td>no_crisis</td>\n",
              "    </tr>\n",
              "  </tbody>\n",
              "</table>\n",
              "</div>"
            ],
            "text/plain": [
              "   case  cc3  country  year  systemic_crisis  exch_usd  \\\n",
              "0     1  DZA  Algeria  1870                1  0.052264   \n",
              "1     1  DZA  Algeria  1871                0  0.052798   \n",
              "2     1  DZA  Algeria  1872                0  0.052274   \n",
              "3     1  DZA  Algeria  1873                0  0.051680   \n",
              "4     1  DZA  Algeria  1874                0  0.051308   \n",
              "\n",
              "   domestic_debt_in_default  sovereign_external_debt_default  \\\n",
              "0                         0                                0   \n",
              "1                         0                                0   \n",
              "2                         0                                0   \n",
              "3                         0                                0   \n",
              "4                         0                                0   \n",
              "\n",
              "   gdp_weighted_default  inflation_annual_cpi  independence  currency_crises  \\\n",
              "0                   0.0              3.441456             0                0   \n",
              "1                   0.0             14.149140             0                0   \n",
              "2                   0.0             -3.718593             0                0   \n",
              "3                   0.0             11.203897             0                0   \n",
              "4                   0.0             -3.848561             0                0   \n",
              "\n",
              "   inflation_crises banking_crisis  \n",
              "0                 0         crisis  \n",
              "1                 0      no_crisis  \n",
              "2                 0      no_crisis  \n",
              "3                 0      no_crisis  \n",
              "4                 0      no_crisis  "
            ]
          },
          "execution_count": 16,
          "metadata": {},
          "output_type": "execute_result"
        }
      ],
      "source": [
        "df.head()"
      ]
    },
    {
      "cell_type": "markdown",
      "metadata": {
        "id": "zmrKOP7R0-8s"
      },
      "source": [
        "**TASK: How many countries are represented in this data set?**"
      ]
    },
    {
      "cell_type": "code",
      "execution_count": null,
      "metadata": {
        "id": "pQ-EKgRH0-8t"
      },
      "outputs": [],
      "source": [
        "# CODE HERE"
      ]
    },
    {
      "cell_type": "code",
      "execution_count": null,
      "metadata": {
        "id": "P0m5quAL0-8t",
        "outputId": "429b012b-7afa-4ae8-d1fe-e6b440f5ea56"
      },
      "outputs": [
        {
          "data": {
            "text/plain": [
              "13"
            ]
          },
          "execution_count": 18,
          "metadata": {},
          "output_type": "execute_result"
        }
      ],
      "source": [
        "df['country'].nunique()"
      ]
    },
    {
      "cell_type": "markdown",
      "metadata": {
        "id": "4ZH0ejr90-8u"
      },
      "source": [
        "**TASK: What are the countries represented in this data set?**"
      ]
    },
    {
      "cell_type": "code",
      "execution_count": null,
      "metadata": {
        "id": "GA_6mIdz0-8v"
      },
      "outputs": [],
      "source": [
        "# CODE HERE"
      ]
    },
    {
      "cell_type": "code",
      "execution_count": null,
      "metadata": {
        "id": "aAPVvLXz0-8w",
        "outputId": "9f15a57d-de06-4fb8-b9e3-ca0fd44a7d46"
      },
      "outputs": [
        {
          "data": {
            "text/plain": [
              "array(['Algeria', 'Angola', 'Central African Republic', 'Ivory Coast',\n",
              "       'Egypt', 'Kenya', 'Mauritius', 'Morocco', 'Nigeria',\n",
              "       'South Africa', 'Tunisia', 'Zambia', 'Zimbabwe'], dtype=object)"
            ]
          },
          "execution_count": 20,
          "metadata": {},
          "output_type": "execute_result"
        }
      ],
      "source": [
        "df['country'].unique()"
      ]
    },
    {
      "cell_type": "markdown",
      "metadata": {
        "id": "XGhfdoc-0-8x"
      },
      "source": [
        "**TASK: What country had this highest annual CPI Inflation rate? What was the inflation rate?**"
      ]
    },
    {
      "cell_type": "code",
      "execution_count": null,
      "metadata": {
        "id": "kNkVMn140-8x"
      },
      "outputs": [],
      "source": [
        "# CODE HERE"
      ]
    },
    {
      "cell_type": "code",
      "execution_count": null,
      "metadata": {
        "id": "fs-d2WgV0-8y",
        "outputId": "187b2e04-fbe6-42d0-d0e7-7a15932b8f51"
      },
      "outputs": [
        {
          "data": {
            "text/html": [
              "<div>\n",
              "<style scoped>\n",
              "    .dataframe tbody tr th:only-of-type {\n",
              "        vertical-align: middle;\n",
              "    }\n",
              "\n",
              "    .dataframe tbody tr th {\n",
              "        vertical-align: top;\n",
              "    }\n",
              "\n",
              "    .dataframe thead th {\n",
              "        text-align: right;\n",
              "    }\n",
              "</style>\n",
              "<table border=\"1\" class=\"dataframe\">\n",
              "  <thead>\n",
              "    <tr style=\"text-align: right;\">\n",
              "      <th></th>\n",
              "      <th>case</th>\n",
              "      <th>cc3</th>\n",
              "      <th>country</th>\n",
              "      <th>year</th>\n",
              "      <th>systemic_crisis</th>\n",
              "      <th>exch_usd</th>\n",
              "      <th>domestic_debt_in_default</th>\n",
              "      <th>sovereign_external_debt_default</th>\n",
              "      <th>gdp_weighted_default</th>\n",
              "      <th>inflation_annual_cpi</th>\n",
              "      <th>independence</th>\n",
              "      <th>currency_crises</th>\n",
              "      <th>inflation_crises</th>\n",
              "      <th>banking_crisis</th>\n",
              "    </tr>\n",
              "  </thead>\n",
              "  <tbody>\n",
              "    <tr>\n",
              "      <td>1053</td>\n",
              "      <td>70</td>\n",
              "      <td>ZWE</td>\n",
              "      <td>Zimbabwe</td>\n",
              "      <td>2008</td>\n",
              "      <td>1</td>\n",
              "      <td>0.002</td>\n",
              "      <td>1</td>\n",
              "      <td>1</td>\n",
              "      <td>0.0</td>\n",
              "      <td>21989695.22</td>\n",
              "      <td>1</td>\n",
              "      <td>1</td>\n",
              "      <td>1</td>\n",
              "      <td>crisis</td>\n",
              "    </tr>\n",
              "  </tbody>\n",
              "</table>\n",
              "</div>"
            ],
            "text/plain": [
              "      case  cc3   country  year  systemic_crisis  exch_usd  \\\n",
              "1053    70  ZWE  Zimbabwe  2008                1     0.002   \n",
              "\n",
              "      domestic_debt_in_default  sovereign_external_debt_default  \\\n",
              "1053                         1                                1   \n",
              "\n",
              "      gdp_weighted_default  inflation_annual_cpi  independence  \\\n",
              "1053                   0.0           21989695.22             1   \n",
              "\n",
              "      currency_crises  inflation_crises banking_crisis  \n",
              "1053                1                 1         crisis  "
            ]
          },
          "execution_count": 24,
          "metadata": {},
          "output_type": "execute_result"
        }
      ],
      "source": [
        "df.sort_values('inflation_annual_cpi',ascending=False).head(1)"
      ]
    },
    {
      "cell_type": "markdown",
      "metadata": {
        "id": "OPoM-A9G0-8y"
      },
      "source": [
        "**TASK: In what year did Kenya have its first System Crisis?**"
      ]
    },
    {
      "cell_type": "code",
      "execution_count": null,
      "metadata": {
        "id": "78pggJzf0-8z"
      },
      "outputs": [],
      "source": [
        "# CODE HERE"
      ]
    },
    {
      "cell_type": "code",
      "execution_count": null,
      "metadata": {
        "id": "c_31iN6h0-8z",
        "outputId": "3ec02664-9b3f-4d50-e6b6-02b295d6f5a7"
      },
      "outputs": [
        {
          "data": {
            "text/html": [
              "<div>\n",
              "<style scoped>\n",
              "    .dataframe tbody tr th:only-of-type {\n",
              "        vertical-align: middle;\n",
              "    }\n",
              "\n",
              "    .dataframe tbody tr th {\n",
              "        vertical-align: top;\n",
              "    }\n",
              "\n",
              "    .dataframe thead th {\n",
              "        text-align: right;\n",
              "    }\n",
              "</style>\n",
              "<table border=\"1\" class=\"dataframe\">\n",
              "  <thead>\n",
              "    <tr style=\"text-align: right;\">\n",
              "      <th></th>\n",
              "      <th>case</th>\n",
              "      <th>cc3</th>\n",
              "      <th>country</th>\n",
              "      <th>year</th>\n",
              "      <th>systemic_crisis</th>\n",
              "      <th>exch_usd</th>\n",
              "      <th>domestic_debt_in_default</th>\n",
              "      <th>sovereign_external_debt_default</th>\n",
              "      <th>gdp_weighted_default</th>\n",
              "      <th>inflation_annual_cpi</th>\n",
              "      <th>independence</th>\n",
              "      <th>currency_crises</th>\n",
              "      <th>inflation_crises</th>\n",
              "      <th>banking_crisis</th>\n",
              "    </tr>\n",
              "  </thead>\n",
              "  <tbody>\n",
              "    <tr>\n",
              "      <td>475</td>\n",
              "      <td>35</td>\n",
              "      <td>KEN</td>\n",
              "      <td>Kenya</td>\n",
              "      <td>1985</td>\n",
              "      <td>1</td>\n",
              "      <td>16.2843</td>\n",
              "      <td>0</td>\n",
              "      <td>0</td>\n",
              "      <td>0.0</td>\n",
              "      <td>11.398</td>\n",
              "      <td>1</td>\n",
              "      <td>0</td>\n",
              "      <td>0</td>\n",
              "      <td>crisis</td>\n",
              "    </tr>\n",
              "    <tr>\n",
              "      <td>476</td>\n",
              "      <td>35</td>\n",
              "      <td>KEN</td>\n",
              "      <td>Kenya</td>\n",
              "      <td>1986</td>\n",
              "      <td>1</td>\n",
              "      <td>16.0422</td>\n",
              "      <td>0</td>\n",
              "      <td>0</td>\n",
              "      <td>0.0</td>\n",
              "      <td>10.284</td>\n",
              "      <td>1</td>\n",
              "      <td>0</td>\n",
              "      <td>0</td>\n",
              "      <td>crisis</td>\n",
              "    </tr>\n",
              "    <tr>\n",
              "      <td>477</td>\n",
              "      <td>35</td>\n",
              "      <td>KEN</td>\n",
              "      <td>Kenya</td>\n",
              "      <td>1987</td>\n",
              "      <td>1</td>\n",
              "      <td>16.5149</td>\n",
              "      <td>0</td>\n",
              "      <td>0</td>\n",
              "      <td>0.0</td>\n",
              "      <td>13.007</td>\n",
              "      <td>1</td>\n",
              "      <td>0</td>\n",
              "      <td>0</td>\n",
              "      <td>crisis</td>\n",
              "    </tr>\n",
              "    <tr>\n",
              "      <td>478</td>\n",
              "      <td>35</td>\n",
              "      <td>KEN</td>\n",
              "      <td>Kenya</td>\n",
              "      <td>1988</td>\n",
              "      <td>1</td>\n",
              "      <td>18.5994</td>\n",
              "      <td>0</td>\n",
              "      <td>0</td>\n",
              "      <td>0.0</td>\n",
              "      <td>4.804</td>\n",
              "      <td>1</td>\n",
              "      <td>0</td>\n",
              "      <td>0</td>\n",
              "      <td>crisis</td>\n",
              "    </tr>\n",
              "    <tr>\n",
              "      <td>479</td>\n",
              "      <td>35</td>\n",
              "      <td>KEN</td>\n",
              "      <td>Kenya</td>\n",
              "      <td>1989</td>\n",
              "      <td>1</td>\n",
              "      <td>21.6010</td>\n",
              "      <td>0</td>\n",
              "      <td>0</td>\n",
              "      <td>0.0</td>\n",
              "      <td>7.617</td>\n",
              "      <td>1</td>\n",
              "      <td>1</td>\n",
              "      <td>0</td>\n",
              "      <td>no_crisis</td>\n",
              "    </tr>\n",
              "    <tr>\n",
              "      <td>482</td>\n",
              "      <td>35</td>\n",
              "      <td>KEN</td>\n",
              "      <td>Kenya</td>\n",
              "      <td>1992</td>\n",
              "      <td>1</td>\n",
              "      <td>36.2163</td>\n",
              "      <td>0</td>\n",
              "      <td>0</td>\n",
              "      <td>0.0</td>\n",
              "      <td>27.332</td>\n",
              "      <td>1</td>\n",
              "      <td>1</td>\n",
              "      <td>1</td>\n",
              "      <td>crisis</td>\n",
              "    </tr>\n",
              "    <tr>\n",
              "      <td>483</td>\n",
              "      <td>35</td>\n",
              "      <td>KEN</td>\n",
              "      <td>Kenya</td>\n",
              "      <td>1993</td>\n",
              "      <td>1</td>\n",
              "      <td>68.1631</td>\n",
              "      <td>0</td>\n",
              "      <td>0</td>\n",
              "      <td>0.0</td>\n",
              "      <td>45.979</td>\n",
              "      <td>1</td>\n",
              "      <td>1</td>\n",
              "      <td>1</td>\n",
              "      <td>crisis</td>\n",
              "    </tr>\n",
              "    <tr>\n",
              "      <td>484</td>\n",
              "      <td>35</td>\n",
              "      <td>KEN</td>\n",
              "      <td>Kenya</td>\n",
              "      <td>1994</td>\n",
              "      <td>1</td>\n",
              "      <td>44.8389</td>\n",
              "      <td>0</td>\n",
              "      <td>1</td>\n",
              "      <td>0.0</td>\n",
              "      <td>28.814</td>\n",
              "      <td>1</td>\n",
              "      <td>0</td>\n",
              "      <td>1</td>\n",
              "      <td>crisis</td>\n",
              "    </tr>\n",
              "    <tr>\n",
              "      <td>485</td>\n",
              "      <td>35</td>\n",
              "      <td>KEN</td>\n",
              "      <td>Kenya</td>\n",
              "      <td>1995</td>\n",
              "      <td>1</td>\n",
              "      <td>55.9389</td>\n",
              "      <td>0</td>\n",
              "      <td>1</td>\n",
              "      <td>0.0</td>\n",
              "      <td>1.554</td>\n",
              "      <td>1</td>\n",
              "      <td>0</td>\n",
              "      <td>0</td>\n",
              "      <td>crisis</td>\n",
              "    </tr>\n",
              "    <tr>\n",
              "      <td>486</td>\n",
              "      <td>35</td>\n",
              "      <td>KEN</td>\n",
              "      <td>Kenya</td>\n",
              "      <td>1996</td>\n",
              "      <td>1</td>\n",
              "      <td>55.0211</td>\n",
              "      <td>0</td>\n",
              "      <td>1</td>\n",
              "      <td>0.0</td>\n",
              "      <td>8.862</td>\n",
              "      <td>1</td>\n",
              "      <td>0</td>\n",
              "      <td>0</td>\n",
              "      <td>no_crisis</td>\n",
              "    </tr>\n",
              "    <tr>\n",
              "      <td>487</td>\n",
              "      <td>35</td>\n",
              "      <td>KEN</td>\n",
              "      <td>Kenya</td>\n",
              "      <td>1997</td>\n",
              "      <td>1</td>\n",
              "      <td>62.6778</td>\n",
              "      <td>0</td>\n",
              "      <td>1</td>\n",
              "      <td>0.0</td>\n",
              "      <td>11.924</td>\n",
              "      <td>1</td>\n",
              "      <td>0</td>\n",
              "      <td>0</td>\n",
              "      <td>no_crisis</td>\n",
              "    </tr>\n",
              "    <tr>\n",
              "      <td>488</td>\n",
              "      <td>35</td>\n",
              "      <td>KEN</td>\n",
              "      <td>Kenya</td>\n",
              "      <td>1998</td>\n",
              "      <td>1</td>\n",
              "      <td>61.9056</td>\n",
              "      <td>0</td>\n",
              "      <td>1</td>\n",
              "      <td>0.0</td>\n",
              "      <td>6.716</td>\n",
              "      <td>1</td>\n",
              "      <td>0</td>\n",
              "      <td>0</td>\n",
              "      <td>no_crisis</td>\n",
              "    </tr>\n",
              "    <tr>\n",
              "      <td>489</td>\n",
              "      <td>35</td>\n",
              "      <td>KEN</td>\n",
              "      <td>Kenya</td>\n",
              "      <td>1999</td>\n",
              "      <td>1</td>\n",
              "      <td>72.9306</td>\n",
              "      <td>0</td>\n",
              "      <td>0</td>\n",
              "      <td>0.0</td>\n",
              "      <td>5.753</td>\n",
              "      <td>1</td>\n",
              "      <td>1</td>\n",
              "      <td>0</td>\n",
              "      <td>no_crisis</td>\n",
              "    </tr>\n",
              "  </tbody>\n",
              "</table>\n",
              "</div>"
            ],
            "text/plain": [
              "     case  cc3 country  year  systemic_crisis  exch_usd  \\\n",
              "475    35  KEN   Kenya  1985                1   16.2843   \n",
              "476    35  KEN   Kenya  1986                1   16.0422   \n",
              "477    35  KEN   Kenya  1987                1   16.5149   \n",
              "478    35  KEN   Kenya  1988                1   18.5994   \n",
              "479    35  KEN   Kenya  1989                1   21.6010   \n",
              "482    35  KEN   Kenya  1992                1   36.2163   \n",
              "483    35  KEN   Kenya  1993                1   68.1631   \n",
              "484    35  KEN   Kenya  1994                1   44.8389   \n",
              "485    35  KEN   Kenya  1995                1   55.9389   \n",
              "486    35  KEN   Kenya  1996                1   55.0211   \n",
              "487    35  KEN   Kenya  1997                1   62.6778   \n",
              "488    35  KEN   Kenya  1998                1   61.9056   \n",
              "489    35  KEN   Kenya  1999                1   72.9306   \n",
              "\n",
              "     domestic_debt_in_default  sovereign_external_debt_default  \\\n",
              "475                         0                                0   \n",
              "476                         0                                0   \n",
              "477                         0                                0   \n",
              "478                         0                                0   \n",
              "479                         0                                0   \n",
              "482                         0                                0   \n",
              "483                         0                                0   \n",
              "484                         0                                1   \n",
              "485                         0                                1   \n",
              "486                         0                                1   \n",
              "487                         0                                1   \n",
              "488                         0                                1   \n",
              "489                         0                                0   \n",
              "\n",
              "     gdp_weighted_default  inflation_annual_cpi  independence  \\\n",
              "475                   0.0                11.398             1   \n",
              "476                   0.0                10.284             1   \n",
              "477                   0.0                13.007             1   \n",
              "478                   0.0                 4.804             1   \n",
              "479                   0.0                 7.617             1   \n",
              "482                   0.0                27.332             1   \n",
              "483                   0.0                45.979             1   \n",
              "484                   0.0                28.814             1   \n",
              "485                   0.0                 1.554             1   \n",
              "486                   0.0                 8.862             1   \n",
              "487                   0.0                11.924             1   \n",
              "488                   0.0                 6.716             1   \n",
              "489                   0.0                 5.753             1   \n",
              "\n",
              "     currency_crises  inflation_crises banking_crisis  \n",
              "475                0                 0         crisis  \n",
              "476                0                 0         crisis  \n",
              "477                0                 0         crisis  \n",
              "478                0                 0         crisis  \n",
              "479                1                 0      no_crisis  \n",
              "482                1                 1         crisis  \n",
              "483                1                 1         crisis  \n",
              "484                0                 1         crisis  \n",
              "485                0                 0         crisis  \n",
              "486                0                 0      no_crisis  \n",
              "487                0                 0      no_crisis  \n",
              "488                0                 0      no_crisis  \n",
              "489                1                 0      no_crisis  "
            ]
          },
          "execution_count": 28,
          "metadata": {},
          "output_type": "execute_result"
        }
      ],
      "source": [
        "df[(df['country']=='Kenya') & (df['systemic_crisis']==1)].sort_values('year')"
      ]
    },
    {
      "cell_type": "markdown",
      "metadata": {
        "id": "nTyG6h3X0-80"
      },
      "source": [
        "**TASK: How many yearly systemic crisises have occurred per country?**"
      ]
    },
    {
      "cell_type": "code",
      "execution_count": null,
      "metadata": {
        "id": "VRDvbXOb0-80"
      },
      "outputs": [],
      "source": [
        "# CODE HERE"
      ]
    },
    {
      "cell_type": "code",
      "execution_count": null,
      "metadata": {
        "id": "ybT8JtbT0-80",
        "outputId": "0497de11-ef8b-4710-d222-c0d0cc7304ca"
      },
      "outputs": [
        {
          "data": {
            "text/plain": [
              "country\n",
              "Algeria                      4\n",
              "Central African Republic    19\n",
              "Egypt                        6\n",
              "Ivory Coast                  4\n",
              "Kenya                       13\n",
              "Morocco                      2\n",
              "Nigeria                     10\n",
              "Tunisia                      5\n",
              "Zambia                       4\n",
              "Zimbabwe                    15\n",
              "Name: systemic_crisis, dtype: int64"
            ]
          },
          "execution_count": 15,
          "metadata": {},
          "output_type": "execute_result"
        }
      ],
      "source": [
        "# Grab only the systemic crisis years\n",
        "crisis = df[df['systemic_crisis']==1]\n",
        "# Group by country\n",
        "crisis.groupby('country').count()['systemic_crisis']"
      ]
    },
    {
      "cell_type": "markdown",
      "metadata": {
        "id": "TPHwJjJM0-81"
      },
      "source": [
        "**TASK: How many years did  Zimbabwe have a sovereign external debt default occur?** "
      ]
    },
    {
      "cell_type": "code",
      "execution_count": null,
      "metadata": {
        "id": "CMNcpGu50-81"
      },
      "outputs": [],
      "source": [
        "# CODE HERE"
      ]
    },
    {
      "cell_type": "code",
      "execution_count": null,
      "metadata": {
        "id": "M0Xlns-_0-81",
        "outputId": "f21d994a-2f2e-4aa6-9a3c-83a2522032f2"
      },
      "outputs": [
        {
          "data": {
            "text/plain": [
              "30"
            ]
          },
          "execution_count": 32,
          "metadata": {},
          "output_type": "execute_result"
        }
      ],
      "source": [
        "len(df[(df['country']=='Zimbabwe') & (df['sovereign_external_debt_default']==1)])"
      ]
    },
    {
      "cell_type": "markdown",
      "metadata": {
        "id": "A01RNpN30-82"
      },
      "source": [
        "**TASK: In what year did Algeria have its highest exchange rate?**"
      ]
    },
    {
      "cell_type": "code",
      "execution_count": null,
      "metadata": {
        "scrolled": true,
        "id": "fWvK19uw0-82"
      },
      "outputs": [],
      "source": [
        "# CODE HERE"
      ]
    },
    {
      "cell_type": "code",
      "execution_count": null,
      "metadata": {
        "id": "Gykjzj9D0-82",
        "outputId": "fb3fc44d-ca92-4f85-c22c-f9a93cade820"
      },
      "outputs": [
        {
          "data": {
            "text/html": [
              "<div>\n",
              "<style scoped>\n",
              "    .dataframe tbody tr th:only-of-type {\n",
              "        vertical-align: middle;\n",
              "    }\n",
              "\n",
              "    .dataframe tbody tr th {\n",
              "        vertical-align: top;\n",
              "    }\n",
              "\n",
              "    .dataframe thead th {\n",
              "        text-align: right;\n",
              "    }\n",
              "</style>\n",
              "<table border=\"1\" class=\"dataframe\">\n",
              "  <thead>\n",
              "    <tr style=\"text-align: right;\">\n",
              "      <th></th>\n",
              "      <th>case</th>\n",
              "      <th>cc3</th>\n",
              "      <th>country</th>\n",
              "      <th>year</th>\n",
              "      <th>systemic_crisis</th>\n",
              "      <th>exch_usd</th>\n",
              "      <th>domestic_debt_in_default</th>\n",
              "      <th>sovereign_external_debt_default</th>\n",
              "      <th>gdp_weighted_default</th>\n",
              "      <th>inflation_annual_cpi</th>\n",
              "      <th>independence</th>\n",
              "      <th>currency_crises</th>\n",
              "      <th>inflation_crises</th>\n",
              "      <th>banking_crisis</th>\n",
              "    </tr>\n",
              "  </thead>\n",
              "  <tbody>\n",
              "    <tr>\n",
              "      <td>84</td>\n",
              "      <td>1</td>\n",
              "      <td>DZA</td>\n",
              "      <td>Algeria</td>\n",
              "      <td>2014</td>\n",
              "      <td>0</td>\n",
              "      <td>87.970698</td>\n",
              "      <td>0</td>\n",
              "      <td>0</td>\n",
              "      <td>0.0</td>\n",
              "      <td>2.917</td>\n",
              "      <td>1</td>\n",
              "      <td>0</td>\n",
              "      <td>0</td>\n",
              "      <td>no_crisis</td>\n",
              "    </tr>\n",
              "  </tbody>\n",
              "</table>\n",
              "</div>"
            ],
            "text/plain": [
              "    case  cc3  country  year  systemic_crisis   exch_usd  \\\n",
              "84     1  DZA  Algeria  2014                0  87.970698   \n",
              "\n",
              "    domestic_debt_in_default  sovereign_external_debt_default  \\\n",
              "84                         0                                0   \n",
              "\n",
              "    gdp_weighted_default  inflation_annual_cpi  independence  currency_crises  \\\n",
              "84                   0.0                 2.917             1                0   \n",
              "\n",
              "    inflation_crises banking_crisis  \n",
              "84                 0      no_crisis  "
            ]
          },
          "execution_count": 42,
          "metadata": {},
          "output_type": "execute_result"
        }
      ],
      "source": [
        "df[df['country']==\"Algeria\"].sort_values('exch_usd',ascending=False).head(1)"
      ]
    }
  ],
  "metadata": {
    "kernelspec": {
      "display_name": "Python 3",
      "language": "python",
      "name": "python3"
    },
    "language_info": {
      "codemirror_mode": {
        "name": "ipython",
        "version": 3
      },
      "file_extension": ".py",
      "mimetype": "text/x-python",
      "name": "python",
      "nbconvert_exporter": "python",
      "pygments_lexer": "ipython3",
      "version": "3.7.4"
    },
    "colab": {
      "provenance": [],
      "collapsed_sections": []
    }
  },
  "nbformat": 4,
  "nbformat_minor": 0
}